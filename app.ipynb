{
 "cells": [
  {
   "cell_type": "code",
   "execution_count": null,
   "metadata": {},
   "outputs": [],
   "source": [
    "# setup voila\n",
    "# WARNING: this doesn't work in my local setup (without `sudo`), \n",
    "# but it should work in a Binder server.\n",
    "!pip install voila\n",
    "!jupyter serverextension enable voila --sys-prefix"
   ]
  },
  {
   "cell_type": "code",
   "execution_count": 1,
   "metadata": {},
   "outputs": [],
   "source": [
    "# imports\n",
    "from fastbook import *\n",
    "from ipywidgets import *"
   ]
  },
  {
   "cell_type": "code",
   "execution_count": 2,
   "metadata": {},
   "outputs": [],
   "source": [
    "# load model\n",
    "model = load_learner('export.pkl')"
   ]
  },
  {
   "cell_type": "code",
   "execution_count": 3,
   "metadata": {},
   "outputs": [],
   "source": [
    "# create widgets\n",
    "upload = widgets.FileUpload()\n",
    "show = widgets.Output()\n",
    "run = widgets.Button(description='Rate my waifu!')\n",
    "label = widgets.Label()"
   ]
  },
  {
   "cell_type": "code",
   "execution_count": 4,
   "metadata": {},
   "outputs": [],
   "source": [
    "def rate(waifu):\n",
    "    \"\"\"Describe waifu quality in colorful terms.\"\"\"\n",
    "    if waifu == 'souryuu_asuka_langley':\n",
    "        return 'You have excellent taste in waifus. Congrats!'\n",
    "    else:\n",
    "        return 'Sorry, but it appears your waifu is trash.'"
   ]
  },
  {
   "cell_type": "code",
   "execution_count": 5,
   "metadata": {},
   "outputs": [],
   "source": [
    "# pretty print waifu names\n",
    "pretty = {\n",
    "    'ayanami_rei': 'Rei Ayanami',\n",
    "    'souryuu_asuka_langley': 'Asuka Langley Soryu'\n",
    "}"
   ]
  },
  {
   "cell_type": "code",
   "execution_count": 6,
   "metadata": {},
   "outputs": [],
   "source": [
    "# classify image when run button is clicked\n",
    "def classify(change):\n",
    "    image = PILImage.create(upload.data[-1])\n",
    "    show.clear_output()\n",
    "    with show: display(image.to_thumb(128, 128))\n",
    "    waifu, waifu_idx, probs = model.predict(image)\n",
    "    label.value = (f'NERV has determined your waifu to be {pretty[waifu]} '\n",
    "                   f'with {probs[waifu_idx]:.2%} probability.\\n') + rate(waifu)\n",
    "    \n",
    "run.on_click(classify)"
   ]
  },
  {
   "cell_type": "code",
   "execution_count": 7,
   "metadata": {},
   "outputs": [
    {
     "data": {
      "application/vnd.jupyter.widget-view+json": {
       "model_id": "0d45b08ed2044137acaa183242c48fc2",
       "version_major": 2,
       "version_minor": 0
      },
      "text/plain": [
       "VBox(children=(FileUpload(value={}, description='Upload'), Output(), Button(description='Rate my waifu!', styl…"
      ]
     },
     "metadata": {},
     "output_type": "display_data"
    }
   ],
   "source": [
    "VBox([upload, show, run, label])"
   ]
  }
 ],
 "metadata": {
  "kernelspec": {
   "display_name": "Python 3",
   "language": "python",
   "name": "python3"
  },
  "language_info": {
   "codemirror_mode": {
    "name": "ipython",
    "version": 3
   },
   "file_extension": ".py",
   "mimetype": "text/x-python",
   "name": "python",
   "nbconvert_exporter": "python",
   "pygments_lexer": "ipython3",
   "version": "3.9.1"
  }
 },
 "nbformat": 4,
 "nbformat_minor": 4
}
